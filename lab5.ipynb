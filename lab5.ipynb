{
  "nbformat": 4,
  "nbformat_minor": 0,
  "metadata": {
    "colab": {
      "name": "Untitled39.ipynb",
      "provenance": []
    },
    "kernelspec": {
      "name": "python3",
      "display_name": "Python 3"
    }
  },
  "cells": [
    {
      "cell_type": "code",
      "metadata": {
        "id": "jT7qzcbxh4ET",
        "colab_type": "code",
        "outputId": "63ca1e4c-0871-4fe4-bf52-60f8ee79c24d",
        "colab": {
          "base_uri": "https://localhost:8080/",
          "height": 126
        }
      },
      "source": [
        "Class Point():\n",
        "    def __add__(self,other):\n",
        "            if isinstance(other,Point):\n",
        "                    return self.add_point(other)\n",
        "            else:\n",
        "                    return self.print_point(other)\n",
        "\n",
        "    def add_point(self,other):\n",
        "            totalx = self.x + other.x\n",
        "            totaly = self.y + other.y\n",
        "            total = ('%d, %d') % (totalx, totaly)\n",
        "            return total\n",
        "\n",
        "    def print_point(self):\n",
        "            print ('%d, %d) % (self.x, self.y)\n",
        "\n",
        "    number = Point()\n",
        "    number.x = 4 \n",
        "    number.y = 5\n",
        "    number1 = Point()\n",
        "    number1.x = 5\n",
        "    number.y = 6"
      ],
      "execution_count": 3,
      "outputs": [
        {
          "output_type": "error",
          "ename": "SyntaxError",
          "evalue": "ignored",
          "traceback": [
            "\u001b[0;36m  File \u001b[0;32m\"<ipython-input-3-58d2a0e48129>\"\u001b[0;36m, line \u001b[0;32m1\u001b[0m\n\u001b[0;31m    Class Point():\u001b[0m\n\u001b[0m              ^\u001b[0m\n\u001b[0;31mSyntaxError\u001b[0m\u001b[0;31m:\u001b[0m invalid syntax\n"
          ]
        }
      ]
    },
    {
      "cell_type": "code",
      "metadata": {
        "id": "8zxythe_fo-7",
        "colab_type": "code",
        "colab": {}
      },
      "source": [
        ""
      ],
      "execution_count": 0,
      "outputs": []
    },
    {
      "cell_type": "code",
      "metadata": {
        "id": "L3DBCa3GdS0-",
        "colab_type": "code",
        "colab": {}
      },
      "source": [
        ""
      ],
      "execution_count": 0,
      "outputs": []
    },
    {
      "cell_type": "code",
      "metadata": {
        "id": "egU2NqESlNAm",
        "colab_type": "code",
        "outputId": "d8f5518b-8bfc-4b0b-a7f8-d174636bc1fa",
        "colab": {
          "base_uri": "https://localhost:8080/",
          "height": 223
        }
      },
      "source": [
        "class Point(tuple):\n",
        "    def __new__(cls, x, y):\n",
        "        return tuple.__new__(cls, (x, y))\n",
        "\n",
        "    def __add__(self, other):\n",
        "        return Point(self[0] + other[0], self[1] + other[1])\n",
        "\n",
        "    def __repr__(self):\n",
        "        return 'Point({0}, {1})'.format(self[0], self[1])\n",
        "\n",
        "p = Point(1, 1)\n",
        "print (p) + Point(5, 5)\n",
        "print (p) + (5, 5)"
      ],
      "execution_count": 0,
      "outputs": [
        {
          "output_type": "stream",
          "text": [
            "Point(1, 1)\n"
          ],
          "name": "stdout"
        },
        {
          "output_type": "error",
          "ename": "TypeError",
          "evalue": "ignored",
          "traceback": [
            "\u001b[0;31m---------------------------------------------------------------------------\u001b[0m",
            "\u001b[0;31mTypeError\u001b[0m                                 Traceback (most recent call last)",
            "\u001b[0;32m<ipython-input-9-d46a00e08669>\u001b[0m in \u001b[0;36m<module>\u001b[0;34m()\u001b[0m\n\u001b[1;32m     10\u001b[0m \u001b[0;34m\u001b[0m\u001b[0m\n\u001b[1;32m     11\u001b[0m \u001b[0mp\u001b[0m \u001b[0;34m=\u001b[0m \u001b[0mPoint\u001b[0m\u001b[0;34m(\u001b[0m\u001b[0;36m1\u001b[0m\u001b[0;34m,\u001b[0m \u001b[0;36m1\u001b[0m\u001b[0;34m)\u001b[0m\u001b[0;34m\u001b[0m\u001b[0;34m\u001b[0m\u001b[0m\n\u001b[0;32m---> 12\u001b[0;31m \u001b[0mprint\u001b[0m \u001b[0;34m(\u001b[0m\u001b[0mp\u001b[0m\u001b[0;34m)\u001b[0m \u001b[0;34m+\u001b[0m \u001b[0mPoint\u001b[0m\u001b[0;34m(\u001b[0m\u001b[0;36m5\u001b[0m\u001b[0;34m,\u001b[0m \u001b[0;36m5\u001b[0m\u001b[0;34m)\u001b[0m \u001b[0;31m# Point(6, 6)\u001b[0m\u001b[0;34m\u001b[0m\u001b[0;34m\u001b[0m\u001b[0m\n\u001b[0m\u001b[1;32m     13\u001b[0m \u001b[0mprint\u001b[0m \u001b[0;34m(\u001b[0m\u001b[0mp\u001b[0m\u001b[0;34m)\u001b[0m \u001b[0;34m+\u001b[0m \u001b[0;34m(\u001b[0m\u001b[0;36m5\u001b[0m\u001b[0;34m,\u001b[0m \u001b[0;36m5\u001b[0m\u001b[0;34m)\u001b[0m\u001b[0;34m\u001b[0m\u001b[0;34m\u001b[0m\u001b[0m\n",
            "\u001b[0;31mTypeError\u001b[0m: unsupported operand type(s) for +: 'NoneType' and 'Point'"
          ]
        }
      ]
    },
    {
      "cell_type": "code",
      "metadata": {
        "id": "E7gDoZuzoAWW",
        "colab_type": "code",
        "colab": {
          "base_uri": "https://localhost:8080/",
          "height": 33
        },
        "outputId": "8ae70974-f948-45be-ebf9-93ce60c9bb08"
      },
      "source": [
        "class ipaddress(object):\n",
        "   def validIPAddress(self, IP):\n",
        "      \"\"\"\n",
        "      :type IP: str\n",
        "      :rtype: str\n",
        "      \"\"\"\n",
        "      def getMask(s):\n",
        "         try: return str(int(s)) == s and 0 <= int(s) <= 255\n",
        "         except: return False\n",
        "      def getNetwork(s):\n",
        "         if len(s) > 4:\n",
        "            return False\n",
        "         try : return int(s, 16) >= 0 and s[0] != '-'\n",
        "         except:\n",
        "            return False\n",
        "      if IP.count(\".\") == 3 and all(getMask(i) for i in IP.split(\".\")):\n",
        "         return \"IPv4\"\n",
        "      if IP.count(\":\") == 7 and all(getNetwork(i) for i in IP.split(\":\")):\n",
        "         return \"IPv6\"\n",
        "      return \"Neither\"\n",
        "ob = ipaddress()\n",
        "print(ob.validIPAddress(\"198.16.245.3\"))"
      ],
      "execution_count": 10,
      "outputs": [
        {
          "output_type": "stream",
          "text": [
            "IPv4\n"
          ],
          "name": "stdout"
        }
      ]
    },
    {
      "cell_type": "code",
      "metadata": {
        "id": "BvB4v9zdhsog",
        "colab_type": "code",
        "colab": {}
      },
      "source": [
        "class ipaddress(object):\n",
        "   def validIPAddress(self, IP):\n",
        "      \"\"\"\n",
        "      :type IP: str\n",
        "      :rtype: str\n",
        "      \"\"\"\n",
        "      def getMask(s):\n",
        "         try: return str(int(s)) == s and 0 <= int(s) <= 255\n",
        "         except: return False\n",
        "      def getNetwork(s):\n",
        "         if len(s) > 4:\n",
        "            return False\n",
        "         try : return int(s, 16) >= 0 and s[0] != '-'\n",
        "         except:\n",
        "            return False"
      ],
      "execution_count": 0,
      "outputs": []
    }
  ]
}